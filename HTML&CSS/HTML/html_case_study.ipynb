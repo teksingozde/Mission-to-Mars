{
 "cells": [
  {
   "cell_type": "code",
   "execution_count": 27,
   "id": "b95a1b6c",
   "metadata": {},
   "outputs": [],
   "source": [
    "from bs4 import BeautifulSoup as soup"
   ]
  },
  {
   "cell_type": "code",
   "execution_count": 28,
   "id": "494fd3cf",
   "metadata": {},
   "outputs": [],
   "source": [
    "html = \"\"\"\n",
    "<!DOCTYPE html>\n",
    "<html lang=\"en\">\n",
    "\n",
    "<head>\n",
    "    <meta charset=\"UTF-8\">\n",
    "    <meta http-equiv=\"X-UA-Compatible\" content=\"IE=edge\">\n",
    "    <meta name=\"viewport\" content=\"width=device-width, initial-scale=1.0\">\n",
    "    <title>Document</title>\n",
    "</head>\n",
    "\n",
    "<body>\n",
    "    <div>\n",
    "        <h2>First heading</h2>\n",
    "        <p>First paragraph</p>\n",
    "    </div>\n",
    "\n",
    "    <div>\n",
    "        <h2>Second heading</h2>\n",
    "        <p>Second heading</p>\n",
    "    </div>\n",
    "</body>\n",
    "\n",
    "</html>\n",
    "\"\"\""
   ]
  },
  {
   "cell_type": "code",
   "execution_count": 29,
   "id": "8d8298e7",
   "metadata": {},
   "outputs": [
    {
     "name": "stdout",
     "output_type": "stream",
     "text": [
      "<!DOCTYPE html>\n",
      "<html lang=\"en\">\n",
      " <head>\n",
      "  <meta charset=\"utf-8\"/>\n",
      "  <meta content=\"IE=edge\" http-equiv=\"X-UA-Compatible\"/>\n",
      "  <meta content=\"width=device-width, initial-scale=1.0\" name=\"viewport\"/>\n",
      "  <title>\n",
      "   Document\n",
      "  </title>\n",
      " </head>\n",
      " <body>\n",
      "  <div>\n",
      "   <h2>\n",
      "    First heading\n",
      "   </h2>\n",
      "   <p>\n",
      "    First paragraph\n",
      "   </p>\n",
      "  </div>\n",
      "  <div>\n",
      "   <h2>\n",
      "    Second heading\n",
      "   </h2>\n",
      "   <p>\n",
      "    Second heading\n",
      "   </p>\n",
      "  </div>\n",
      " </body>\n",
      "</html>\n",
      "\n"
     ]
    }
   ],
   "source": [
    "html_soup = soup(html, 'html.parser')\n",
    "print(html_soup.prettify())"
   ]
  },
  {
   "cell_type": "code",
   "execution_count": 30,
   "id": "f0481a41",
   "metadata": {},
   "outputs": [
    {
     "data": {
      "text/plain": [
       "<title>Document</title>"
      ]
     },
     "execution_count": 30,
     "metadata": {},
     "output_type": "execute_result"
    }
   ],
   "source": [
    "html_soup.title"
   ]
  },
  {
   "cell_type": "code",
   "execution_count": 31,
   "id": "585e3ec2",
   "metadata": {},
   "outputs": [
    {
     "name": "stdout",
     "output_type": "stream",
     "text": [
      "Document\n"
     ]
    }
   ],
   "source": [
    "doc_title = html_soup.title.text\n",
    "print(doc_title)"
   ]
  },
  {
   "cell_type": "code",
   "execution_count": 32,
   "id": "859bcaa0",
   "metadata": {},
   "outputs": [
    {
     "name": "stdout",
     "output_type": "stream",
     "text": [
      "<div>\n",
      "<h2>First heading</h2>\n",
      "<p>First paragraph</p>\n",
      "</div>\n"
     ]
    }
   ],
   "source": [
    "div = html_soup.find(\"div\")\n",
    "print(div)"
   ]
  },
  {
   "cell_type": "code",
   "execution_count": 49,
   "id": "125adade",
   "metadata": {},
   "outputs": [
    {
     "data": {
      "text/plain": [
       "[<h2>First heading</h2>, <h2>Second heading</h2>]"
      ]
     },
     "execution_count": 49,
     "metadata": {},
     "output_type": "execute_result"
    }
   ],
   "source": [
    "doc_heading = html_soup.find_all(\"h2\")\n",
    "doc_heading"
   ]
  },
  {
   "cell_type": "code",
   "execution_count": 50,
   "id": "2d3f9f0c",
   "metadata": {},
   "outputs": [
    {
     "name": "stdout",
     "output_type": "stream",
     "text": [
      "<h2>First heading</h2>\n",
      "<h2>Second heading</h2>\n"
     ]
    }
   ],
   "source": [
    "for i in doc_heading:\n",
    "    print(i)"
   ]
  },
  {
   "cell_type": "code",
   "execution_count": 52,
   "id": "381a995c",
   "metadata": {},
   "outputs": [
    {
     "data": {
      "text/plain": [
       "<h2>First heading</h2>"
      ]
     },
     "execution_count": 52,
     "metadata": {},
     "output_type": "execute_result"
    }
   ],
   "source": [
    "doc_heading = html_soup.find_all(\"h2\")[0]\n",
    "doc_heading"
   ]
  },
  {
   "cell_type": "code",
   "execution_count": 53,
   "id": "fe978239",
   "metadata": {},
   "outputs": [
    {
     "data": {
      "text/plain": [
       "<h2>Second heading</h2>"
      ]
     },
     "execution_count": 53,
     "metadata": {},
     "output_type": "execute_result"
    }
   ],
   "source": [
    "doc_heading = html_soup.find_all(\"h2\")[1]\n",
    "doc_heading"
   ]
  },
  {
   "cell_type": "code",
   "execution_count": 54,
   "id": "7317505f",
   "metadata": {},
   "outputs": [
    {
     "data": {
      "text/plain": [
       "'First heading'"
      ]
     },
     "execution_count": 54,
     "metadata": {},
     "output_type": "execute_result"
    }
   ],
   "source": [
    "doc_heading = html_soup.find_all(\"h2\")[0].text\n",
    "doc_heading"
   ]
  },
  {
   "cell_type": "code",
   "execution_count": 55,
   "id": "6f840233",
   "metadata": {},
   "outputs": [
    {
     "data": {
      "text/plain": [
       "'Second heading'"
      ]
     },
     "execution_count": 55,
     "metadata": {},
     "output_type": "execute_result"
    }
   ],
   "source": [
    "doc_heading = html_soup.find_all(\"h2\")[1].text\n",
    "doc_heading"
   ]
  },
  {
   "cell_type": "code",
   "execution_count": 21,
   "id": "1e1178df",
   "metadata": {},
   "outputs": [
    {
     "data": {
      "text/plain": [
       "'First paragraph'"
      ]
     },
     "execution_count": 21,
     "metadata": {},
     "output_type": "execute_result"
    }
   ],
   "source": [
    "doc_paragraph = html_soup.find(\"p\").text\n",
    "doc_paragraph"
   ]
  },
  {
   "cell_type": "code",
   "execution_count": 44,
   "id": "d2ad7726",
   "metadata": {},
   "outputs": [
    {
     "data": {
      "text/plain": [
       "bs4.element.ResultSet"
      ]
     },
     "execution_count": 44,
     "metadata": {},
     "output_type": "execute_result"
    }
   ],
   "source": [
    "type(doc_heading)"
   ]
  }
 ],
 "metadata": {
  "kernelspec": {
   "display_name": "PythonData",
   "language": "python",
   "name": "pythondata"
  },
  "language_info": {
   "codemirror_mode": {
    "name": "ipython",
    "version": 3
   },
   "file_extension": ".py",
   "mimetype": "text/x-python",
   "name": "python",
   "nbconvert_exporter": "python",
   "pygments_lexer": "ipython3",
   "version": "3.9.12"
  }
 },
 "nbformat": 4,
 "nbformat_minor": 5
}
