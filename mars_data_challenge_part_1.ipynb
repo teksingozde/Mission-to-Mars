{
 "cells": [
  {
   "cell_type": "code",
   "execution_count": 1,
   "id": "0bbefcb1",
   "metadata": {},
   "outputs": [],
   "source": [
    "# Import Splinter and Beautiful Soup.\n",
    "from splinter import Browser\n",
    "from bs4 import BeautifulSoup as soup\n",
    "from webdriver_manager.chrome import ChromeDriverManager"
   ]
  },
  {
   "cell_type": "code",
   "execution_count": 2,
   "id": "4a2f9ffc",
   "metadata": {},
   "outputs": [],
   "source": [
    "# Set up Splinter.\n",
    "executable_path = {\"executable_path\" : ChromeDriverManager().install()}\n",
    "browser = Browser(\"chrome\", **executable_path, headless = False, incognito = True)"
   ]
  },
  {
   "cell_type": "code",
   "execution_count": 3,
   "id": "289bc461",
   "metadata": {},
   "outputs": [
    {
     "data": {
      "text/plain": [
       "True"
      ]
     },
     "execution_count": 3,
     "metadata": {},
     "output_type": "execute_result"
    }
   ],
   "source": [
    "# Visit the Mars News site for Scraping.\n",
    "url = \"https://redplanetscience.com\"\n",
    "browser.visit(url)\n",
    "\n",
    "# Optional delay for loading the page.\n",
    "browser.is_element_present_by_css(\"div.list_text\", wait_time = 1)"
   ]
  },
  {
   "cell_type": "code",
   "execution_count": 4,
   "id": "212cec63",
   "metadata": {},
   "outputs": [],
   "source": [
    "# Parse the HTML.\n",
    "html = browser.html\n",
    "news_soup = soup(html, \"html.parser\")"
   ]
  },
  {
   "cell_type": "code",
   "execution_count": 5,
   "id": "90502d5d",
   "metadata": {},
   "outputs": [],
   "source": [
    "# Scrape the articles on the landing page.\n",
    "articles = news_soup.find_all(\"div\", class_ = \"list_text\")"
   ]
  },
  {
   "cell_type": "code",
   "execution_count": 6,
   "id": "36d82e2b",
   "metadata": {},
   "outputs": [
    {
     "name": "stdout",
     "output_type": "stream",
     "text": [
      "Robotic Toolkit Added to NASA's Mars 2020 Rover\n",
      "NASA's New Mars Rover Is Ready for Space Lasers\n",
      "NASA's Treasure Map for Water Ice on Mars\n",
      "NASA's Curiosity Keeps Rolling As Team Operates Rover From Home\n",
      "NASA Prepares for Moon and Mars With New Addition to Its Deep Space Network\n",
      "3 Things We've Learned From NASA's Mars InSight \n",
      "A Martian Roundtrip: NASA's Perseverance Rover Sample Tubes\n",
      "Mars Is Getting a New Robotic Meteorologist\n",
      "Meet the People Behind NASA's Perseverance Rover\n",
      "10.9 Million Names Now Aboard NASA's Perseverance Mars Rover\n",
      "NASA Moves Forward With Campaign to Return Mars Samples to Earth\n",
      "NASA's Perseverance Rover Goes Through Trials by Fire, Ice, Light and Sound\n",
      "Three New Views of Mars' Moon Phobos\n",
      "6 Things to Know About NASA's Ingenuity Mars Helicopter\n",
      "Hear Audio From NASA's Perseverance As It Travels Through Deep Space\n"
     ]
    }
   ],
   "source": [
    "# Scrape the article titles.\n",
    "for article in articles:\n",
    "    title = article.find(\"div\", class_ = \"content_title\").text\n",
    "    print(title)"
   ]
  },
  {
   "cell_type": "code",
   "execution_count": 7,
   "id": "2993859c",
   "metadata": {},
   "outputs": [
    {
     "name": "stdout",
     "output_type": "stream",
     "text": [
      "The bit carousel, which lies at the heart of the rover's Sample Caching System, is now aboard NASA's newest rover. \n",
      "Perseverance is one of a few Mars spacecraft carrying laser retroreflectors. The devices could provide new science and safer Mars landings in the future.\n",
      "A new study identifies frozen water just below the Martian surface, where astronauts could easily dig it up.\n",
      "The team has learned to meet new challenges as they work remotely on the Mars mission.\n",
      "Robotic spacecraft will be able to communicate with the dish using radio waves and lasers.\n",
      "Scientists are finding new mysteries since the geophysics mission landed two years ago.\n",
      "Marvels of engineering, the rover's sample tubes must be tough enough to safely bring Red Planet samples on the long journey back to Earth in immaculate condition. \n",
      "Sensors on NASA's Perseverance will help prepare for future human exploration by taking weather measurements and studying dust particles.\n",
      "These are the scientists and engineers who built NASA's next Mars rover and who will guide it to a safe landing in Jezero Crater. \n",
      "As part of NASA's 'Send Your Name to Mars' campaign, they've been stenciled onto three microchips along with essays from NASA's 'Name the Rover' contest. Next stop: Mars.\n",
      "During this next phase, the program will mature critical technologies and make critical design decisions as well as assess industry partnerships.\n",
      "The agency's new Mars rover is put through a series of tests in vacuum chambers, acoustic chambers and more to get ready for the Red Planet.\n",
      "Taken with the infrared camera aboard NASA's Odyssey orbiter, they reveal temperature variations on the small moon as it drifts into and out of Mars’ shadow.\n",
      "The first helicopter attempting to fly on another planet is a marvel of engineering. Get up to speed with these key facts about its plans.\n",
      "The first to be rigged with microphones, the agency's latest Mars rover picked up the subtle sounds of its own inner workings during interplanetary flight.\n"
     ]
    }
   ],
   "source": [
    "# Scrape the article previews.\n",
    "for article in articles:\n",
    "    preview = article.find(\"div\", class_ = \"article_teaser_body\").text\n",
    "    print(preview)"
   ]
  },
  {
   "cell_type": "code",
   "execution_count": 8,
   "id": "5a8d262a",
   "metadata": {},
   "outputs": [],
   "source": [
    "# Put the article titles and preview texts together into a list of dictionaries using list comprehension.\n",
    "article_list = [{\"title\" : article.find(\"div\", class_ = \"content_title\").text,\n",
    "                 \"preview\" : article.find(\"div\", class_ = \"article_teaser_body\").text} for article in articles]"
   ]
  },
  {
   "cell_type": "code",
   "execution_count": 9,
   "id": "f269ec77",
   "metadata": {},
   "outputs": [
    {
     "name": "stdout",
     "output_type": "stream",
     "text": [
      "{'title': \"Robotic Toolkit Added to NASA's Mars 2020 Rover\", 'preview': \"The bit carousel, which lies at the heart of the rover's Sample Caching System, is now aboard NASA's newest rover. \"}\n",
      "{'title': \"NASA's New Mars Rover Is Ready for Space Lasers\", 'preview': 'Perseverance is one of a few Mars spacecraft carrying laser retroreflectors. The devices could provide new science and safer Mars landings in the future.'}\n",
      "{'title': \"NASA's Treasure Map for Water Ice on Mars\", 'preview': 'A new study identifies frozen water just below the Martian surface, where astronauts could easily dig it up.'}\n",
      "{'title': \"NASA's Curiosity Keeps Rolling As Team Operates Rover From Home\", 'preview': 'The team has learned to meet new challenges as they work remotely on the Mars mission.'}\n",
      "{'title': 'NASA Prepares for Moon and Mars With New Addition to Its Deep Space Network', 'preview': 'Robotic spacecraft will be able to communicate with the dish using radio waves and lasers.'}\n",
      "{'title': \"3 Things We've Learned From NASA's Mars InSight \", 'preview': 'Scientists are finding new mysteries since the geophysics mission landed two years ago.'}\n",
      "{'title': \"A Martian Roundtrip: NASA's Perseverance Rover Sample Tubes\", 'preview': \"Marvels of engineering, the rover's sample tubes must be tough enough to safely bring Red Planet samples on the long journey back to Earth in immaculate condition. \"}\n",
      "{'title': 'Mars Is Getting a New Robotic Meteorologist', 'preview': \"Sensors on NASA's Perseverance will help prepare for future human exploration by taking weather measurements and studying dust particles.\"}\n",
      "{'title': \"Meet the People Behind NASA's Perseverance Rover\", 'preview': \"These are the scientists and engineers who built NASA's next Mars rover and who will guide it to a safe landing in Jezero Crater. \"}\n",
      "{'title': \"10.9 Million Names Now Aboard NASA's Perseverance Mars Rover\", 'preview': \"As part of NASA's 'Send Your Name to Mars' campaign, they've been stenciled onto three microchips along with essays from NASA's 'Name the Rover' contest. Next stop: Mars.\"}\n",
      "{'title': 'NASA Moves Forward With Campaign to Return Mars Samples to Earth', 'preview': 'During this next phase, the program will mature critical technologies and make critical design decisions as well as assess industry partnerships.'}\n",
      "{'title': \"NASA's Perseverance Rover Goes Through Trials by Fire, Ice, Light and Sound\", 'preview': \"The agency's new Mars rover is put through a series of tests in vacuum chambers, acoustic chambers and more to get ready for the Red Planet.\"}\n",
      "{'title': \"Three New Views of Mars' Moon Phobos\", 'preview': \"Taken with the infrared camera aboard NASA's Odyssey orbiter, they reveal temperature variations on the small moon as it drifts into and out of Mars’ shadow.\"}\n",
      "{'title': \"6 Things to Know About NASA's Ingenuity Mars Helicopter\", 'preview': 'The first helicopter attempting to fly on another planet is a marvel of engineering. Get up to speed with these key facts about its plans.'}\n",
      "{'title': \"Hear Audio From NASA's Perseverance As It Travels Through Deep Space\", 'preview': \"The first to be rigged with microphones, the agency's latest Mars rover picked up the subtle sounds of its own inner workings during interplanetary flight.\"}\n"
     ]
    }
   ],
   "source": [
    "# Print the results.\n",
    "for article in article_list:\n",
    "    print(article)"
   ]
  },
  {
   "cell_type": "code",
   "execution_count": 10,
   "id": "8938528a",
   "metadata": {},
   "outputs": [],
   "source": [
    "# Close the Splinter session.\n",
    "browser.quit()"
   ]
  },
  {
   "cell_type": "code",
   "execution_count": 11,
   "id": "cb6c747b",
   "metadata": {},
   "outputs": [],
   "source": [
    "# Export the list of dictionaries into a JSON file.\n",
    "import json\n",
    "\n",
    "jsonString = json.dumps(article_list)\n",
    "jsonFile = open(\"article_list.json\", \"w\")\n",
    "jsonFile.write(jsonString)\n",
    "jsonFile.close()"
   ]
  },
  {
   "cell_type": "code",
   "execution_count": 12,
   "id": "02c6fc1f",
   "metadata": {},
   "outputs": [],
   "source": [
    "# Create an instance of MongoClient, using the port number 27017.\n",
    "from pymongo import MongoClient\n",
    "\n",
    "mongo = MongoClient(port = 27017)"
   ]
  },
  {
   "cell_type": "code",
   "execution_count": 13,
   "id": "e2f21e58",
   "metadata": {},
   "outputs": [
    {
     "data": {
      "text/plain": [
       "<pymongo.results.InsertManyResult at 0x7f9d61305eb0>"
      ]
     },
     "execution_count": 13,
     "metadata": {},
     "output_type": "execute_result"
    }
   ],
   "source": [
    "# Set up a database named \"mars_news.\"\n",
    "db = mongo[\"mars_news\"]\n",
    "\n",
    "# Set up a collection named \"article_list.\"\n",
    "collect = db[\"article_list\"]\n",
    "\n",
    "# Insert the list of dictionaries.\n",
    "collect.insert_many(article_list)"
   ]
  },
  {
   "cell_type": "code",
   "execution_count": 14,
   "id": "5c9a2771",
   "metadata": {},
   "outputs": [
    {
     "name": "stdout",
     "output_type": "stream",
     "text": [
      "['admin', 'config', 'local', 'mars_news']\n"
     ]
    }
   ],
   "source": [
    "# Verify existence of the database.\n",
    "print(mongo.list_database_names())"
   ]
  },
  {
   "cell_type": "code",
   "execution_count": 15,
   "id": "2f294680",
   "metadata": {},
   "outputs": [
    {
     "name": "stdout",
     "output_type": "stream",
     "text": [
      "['article_list']\n"
     ]
    }
   ],
   "source": [
    "# Verify existence of the collection.\n",
    "db = mongo[\"mars_news\"]\n",
    "\n",
    "print(db.list_collection_names())"
   ]
  },
  {
   "cell_type": "code",
   "execution_count": 16,
   "id": "2985d984",
   "metadata": {},
   "outputs": [
    {
     "name": "stdout",
     "output_type": "stream",
     "text": [
      "{'_id': ObjectId('637d2c861270565e61b2d2c0'), 'title': \"Robotic Toolkit Added to NASA's Mars 2020 Rover\", 'preview': \"The bit carousel, which lies at the heart of the rover's Sample Caching System, is now aboard NASA's newest rover. \"}\n",
      "{'_id': ObjectId('637d2c861270565e61b2d2c1'), 'title': \"NASA's New Mars Rover Is Ready for Space Lasers\", 'preview': 'Perseverance is one of a few Mars spacecraft carrying laser retroreflectors. The devices could provide new science and safer Mars landings in the future.'}\n",
      "{'_id': ObjectId('637d2c861270565e61b2d2c2'), 'title': \"NASA's Treasure Map for Water Ice on Mars\", 'preview': 'A new study identifies frozen water just below the Martian surface, where astronauts could easily dig it up.'}\n",
      "{'_id': ObjectId('637d2c861270565e61b2d2c3'), 'title': \"NASA's Curiosity Keeps Rolling As Team Operates Rover From Home\", 'preview': 'The team has learned to meet new challenges as they work remotely on the Mars mission.'}\n",
      "{'_id': ObjectId('637d2c861270565e61b2d2c4'), 'title': 'NASA Prepares for Moon and Mars With New Addition to Its Deep Space Network', 'preview': 'Robotic spacecraft will be able to communicate with the dish using radio waves and lasers.'}\n",
      "{'_id': ObjectId('637d2c861270565e61b2d2c5'), 'title': \"3 Things We've Learned From NASA's Mars InSight \", 'preview': 'Scientists are finding new mysteries since the geophysics mission landed two years ago.'}\n",
      "{'_id': ObjectId('637d2c861270565e61b2d2c6'), 'title': \"A Martian Roundtrip: NASA's Perseverance Rover Sample Tubes\", 'preview': \"Marvels of engineering, the rover's sample tubes must be tough enough to safely bring Red Planet samples on the long journey back to Earth in immaculate condition. \"}\n",
      "{'_id': ObjectId('637d2c861270565e61b2d2c7'), 'title': 'Mars Is Getting a New Robotic Meteorologist', 'preview': \"Sensors on NASA's Perseverance will help prepare for future human exploration by taking weather measurements and studying dust particles.\"}\n",
      "{'_id': ObjectId('637d2c861270565e61b2d2c8'), 'title': \"Meet the People Behind NASA's Perseverance Rover\", 'preview': \"These are the scientists and engineers who built NASA's next Mars rover and who will guide it to a safe landing in Jezero Crater. \"}\n",
      "{'_id': ObjectId('637d2c861270565e61b2d2c9'), 'title': \"10.9 Million Names Now Aboard NASA's Perseverance Mars Rover\", 'preview': \"As part of NASA's 'Send Your Name to Mars' campaign, they've been stenciled onto three microchips along with essays from NASA's 'Name the Rover' contest. Next stop: Mars.\"}\n",
      "{'_id': ObjectId('637d2c861270565e61b2d2ca'), 'title': 'NASA Moves Forward With Campaign to Return Mars Samples to Earth', 'preview': 'During this next phase, the program will mature critical technologies and make critical design decisions as well as assess industry partnerships.'}\n",
      "{'_id': ObjectId('637d2c861270565e61b2d2cb'), 'title': \"NASA's Perseverance Rover Goes Through Trials by Fire, Ice, Light and Sound\", 'preview': \"The agency's new Mars rover is put through a series of tests in vacuum chambers, acoustic chambers and more to get ready for the Red Planet.\"}\n",
      "{'_id': ObjectId('637d2c861270565e61b2d2cc'), 'title': \"Three New Views of Mars' Moon Phobos\", 'preview': \"Taken with the infrared camera aboard NASA's Odyssey orbiter, they reveal temperature variations on the small moon as it drifts into and out of Mars’ shadow.\"}\n",
      "{'_id': ObjectId('637d2c861270565e61b2d2cd'), 'title': \"6 Things to Know About NASA's Ingenuity Mars Helicopter\", 'preview': 'The first helicopter attempting to fly on another planet is a marvel of engineering. Get up to speed with these key facts about its plans.'}\n",
      "{'_id': ObjectId('637d2c861270565e61b2d2ce'), 'title': \"Hear Audio From NASA's Perseverance As It Travels Through Deep Space\", 'preview': \"The first to be rigged with microphones, the agency's latest Mars rover picked up the subtle sounds of its own inner workings during interplanetary flight.\"}\n"
     ]
    }
   ],
   "source": [
    "# Verify that all documents are accounted for.\n",
    "collect = db[\"article_list\"]\n",
    "\n",
    "for result in collect.find():\n",
    "    print(result)"
   ]
  },
  {
   "cell_type": "code",
   "execution_count": 17,
   "id": "eeb3c043",
   "metadata": {},
   "outputs": [
    {
     "data": {
      "text/plain": [
       "[]"
      ]
     },
     "execution_count": 17,
     "metadata": {},
     "output_type": "execute_result"
    }
   ],
   "source": [
    "# Delete the collection.\n",
    "db.drop_collection(\"article_list\")\n",
    "db.list_collection_names()"
   ]
  },
  {
   "cell_type": "code",
   "execution_count": 18,
   "id": "60beae69",
   "metadata": {},
   "outputs": [
    {
     "data": {
      "text/plain": [
       "['admin', 'config', 'local']"
      ]
     },
     "execution_count": 18,
     "metadata": {},
     "output_type": "execute_result"
    }
   ],
   "source": [
    "# Delete the database.\n",
    "mongo.drop_database(db)\n",
    "mongo.list_database_names()"
   ]
  }
 ],
 "metadata": {
  "kernelspec": {
   "display_name": "PythonData",
   "language": "python",
   "name": "pythondata"
  },
  "language_info": {
   "codemirror_mode": {
    "name": "ipython",
    "version": 3
   },
   "file_extension": ".py",
   "mimetype": "text/x-python",
   "name": "python",
   "nbconvert_exporter": "python",
   "pygments_lexer": "ipython3",
   "version": "3.9.12"
  }
 },
 "nbformat": 4,
 "nbformat_minor": 5
}
