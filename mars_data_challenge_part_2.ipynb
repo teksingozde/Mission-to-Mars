{
 "cells": [
  {
   "cell_type": "code",
   "execution_count": 1,
   "id": "1a727cb9",
   "metadata": {},
   "outputs": [],
   "source": [
    "# Import dependencies.\n",
    "from splinter import Browser\n",
    "from bs4 import BeautifulSoup as soup\n",
    "from webdriver_manager.chrome import ChromeDriverManager\n",
    "import pandas as pd\n",
    "import numpy as np\n",
    "import matplotlib.pyplot as plt"
   ]
  },
  {
   "cell_type": "code",
   "execution_count": 2,
   "id": "a1dd1271",
   "metadata": {},
   "outputs": [
    {
     "name": "stdout",
     "output_type": "stream",
     "text": [
      "Total tables: 1\n"
     ]
    }
   ],
   "source": [
    "# Scrape the data in the HTML table in the Mars Temperature Data site.\n",
    "# Use Pandas' \"read_html\" method. This method will read any to all HTML tables on the web page\n",
    "# into a list of DataFrame objects. This will require the \"lxml\" library or the combination of\n",
    "# the \"bs4\" and \"html5lib\" libraries to parse the HTML script\n",
    "url = \"https://data-class-mars-challenge.s3.amazonaws.com/Mars/index.html\"\n",
    "dfs = pd.read_html(url)\n",
    "print(f\"Total tables: {len(dfs)}\")"
   ]
  },
  {
   "cell_type": "code",
   "execution_count": 3,
   "id": "ac259875",
   "metadata": {},
   "outputs": [
    {
     "data": {
      "text/html": [
       "<div>\n",
       "<style scoped>\n",
       "    .dataframe tbody tr th:only-of-type {\n",
       "        vertical-align: middle;\n",
       "    }\n",
       "\n",
       "    .dataframe tbody tr th {\n",
       "        vertical-align: top;\n",
       "    }\n",
       "\n",
       "    .dataframe thead th {\n",
       "        text-align: right;\n",
       "    }\n",
       "</style>\n",
       "<table border=\"1\" class=\"dataframe\">\n",
       "  <thead>\n",
       "    <tr style=\"text-align: right;\">\n",
       "      <th></th>\n",
       "      <th>id</th>\n",
       "      <th>terrestrial_date</th>\n",
       "      <th>sol</th>\n",
       "      <th>ls</th>\n",
       "      <th>month</th>\n",
       "      <th>min_temp</th>\n",
       "      <th>pressure</th>\n",
       "    </tr>\n",
       "  </thead>\n",
       "  <tbody>\n",
       "    <tr>\n",
       "      <th>0</th>\n",
       "      <td>2</td>\n",
       "      <td>2012-08-16</td>\n",
       "      <td>10</td>\n",
       "      <td>155</td>\n",
       "      <td>6</td>\n",
       "      <td>-75.0</td>\n",
       "      <td>739.0</td>\n",
       "    </tr>\n",
       "    <tr>\n",
       "      <th>1</th>\n",
       "      <td>13</td>\n",
       "      <td>2012-08-17</td>\n",
       "      <td>11</td>\n",
       "      <td>156</td>\n",
       "      <td>6</td>\n",
       "      <td>-76.0</td>\n",
       "      <td>740.0</td>\n",
       "    </tr>\n",
       "    <tr>\n",
       "      <th>2</th>\n",
       "      <td>24</td>\n",
       "      <td>2012-08-18</td>\n",
       "      <td>12</td>\n",
       "      <td>156</td>\n",
       "      <td>6</td>\n",
       "      <td>-76.0</td>\n",
       "      <td>741.0</td>\n",
       "    </tr>\n",
       "    <tr>\n",
       "      <th>3</th>\n",
       "      <td>35</td>\n",
       "      <td>2012-08-19</td>\n",
       "      <td>13</td>\n",
       "      <td>157</td>\n",
       "      <td>6</td>\n",
       "      <td>-74.0</td>\n",
       "      <td>732.0</td>\n",
       "    </tr>\n",
       "    <tr>\n",
       "      <th>4</th>\n",
       "      <td>46</td>\n",
       "      <td>2012-08-20</td>\n",
       "      <td>14</td>\n",
       "      <td>157</td>\n",
       "      <td>6</td>\n",
       "      <td>-74.0</td>\n",
       "      <td>740.0</td>\n",
       "    </tr>\n",
       "  </tbody>\n",
       "</table>\n",
       "</div>"
      ],
      "text/plain": [
       "   id terrestrial_date  sol   ls  month  min_temp  pressure\n",
       "0   2       2012-08-16   10  155      6     -75.0     739.0\n",
       "1  13       2012-08-17   11  156      6     -76.0     740.0\n",
       "2  24       2012-08-18   12  156      6     -76.0     741.0\n",
       "3  35       2012-08-19   13  157      6     -74.0     732.0\n",
       "4  46       2012-08-20   14  157      6     -74.0     740.0"
      ]
     },
     "execution_count": 3,
     "metadata": {},
     "output_type": "execute_result"
    }
   ],
   "source": [
    "# Store the DataFrame.\n",
    "mars_df = dfs[0]\n",
    "\n",
    "# Check out the DataFrame\n",
    "mars_df.head()"
   ]
  },
  {
   "cell_type": "code",
   "execution_count": 4,
   "id": "2435570b",
   "metadata": {},
   "outputs": [
    {
     "data": {
      "text/html": [
       "<div>\n",
       "<style scoped>\n",
       "    .dataframe tbody tr th:only-of-type {\n",
       "        vertical-align: middle;\n",
       "    }\n",
       "\n",
       "    .dataframe tbody tr th {\n",
       "        vertical-align: top;\n",
       "    }\n",
       "\n",
       "    .dataframe thead th {\n",
       "        text-align: right;\n",
       "    }\n",
       "</style>\n",
       "<table border=\"1\" class=\"dataframe\">\n",
       "  <thead>\n",
       "    <tr style=\"text-align: right;\">\n",
       "      <th></th>\n",
       "      <th>id</th>\n",
       "      <th>terrestrial_date</th>\n",
       "      <th>sol</th>\n",
       "      <th>ls</th>\n",
       "      <th>month</th>\n",
       "      <th>min_temp</th>\n",
       "      <th>pressure</th>\n",
       "    </tr>\n",
       "  </thead>\n",
       "  <tbody>\n",
       "    <tr>\n",
       "      <th>1862</th>\n",
       "      <td>1889</td>\n",
       "      <td>2018-02-23</td>\n",
       "      <td>1973</td>\n",
       "      <td>133</td>\n",
       "      <td>5</td>\n",
       "      <td>-78.0</td>\n",
       "      <td>730.0</td>\n",
       "    </tr>\n",
       "    <tr>\n",
       "      <th>1863</th>\n",
       "      <td>1892</td>\n",
       "      <td>2018-02-24</td>\n",
       "      <td>1974</td>\n",
       "      <td>134</td>\n",
       "      <td>5</td>\n",
       "      <td>-77.0</td>\n",
       "      <td>729.0</td>\n",
       "    </tr>\n",
       "    <tr>\n",
       "      <th>1864</th>\n",
       "      <td>1894</td>\n",
       "      <td>2018-02-25</td>\n",
       "      <td>1975</td>\n",
       "      <td>134</td>\n",
       "      <td>5</td>\n",
       "      <td>-76.0</td>\n",
       "      <td>729.0</td>\n",
       "    </tr>\n",
       "    <tr>\n",
       "      <th>1865</th>\n",
       "      <td>1893</td>\n",
       "      <td>2018-02-26</td>\n",
       "      <td>1976</td>\n",
       "      <td>135</td>\n",
       "      <td>5</td>\n",
       "      <td>-77.0</td>\n",
       "      <td>728.0</td>\n",
       "    </tr>\n",
       "    <tr>\n",
       "      <th>1866</th>\n",
       "      <td>1895</td>\n",
       "      <td>2018-02-27</td>\n",
       "      <td>1977</td>\n",
       "      <td>135</td>\n",
       "      <td>5</td>\n",
       "      <td>-77.0</td>\n",
       "      <td>727.0</td>\n",
       "    </tr>\n",
       "  </tbody>\n",
       "</table>\n",
       "</div>"
      ],
      "text/plain": [
       "        id terrestrial_date   sol   ls  month  min_temp  pressure\n",
       "1862  1889       2018-02-23  1973  133      5     -78.0     730.0\n",
       "1863  1892       2018-02-24  1974  134      5     -77.0     729.0\n",
       "1864  1894       2018-02-25  1975  134      5     -76.0     729.0\n",
       "1865  1893       2018-02-26  1976  135      5     -77.0     728.0\n",
       "1866  1895       2018-02-27  1977  135      5     -77.0     727.0"
      ]
     },
     "execution_count": 4,
     "metadata": {},
     "output_type": "execute_result"
    }
   ],
   "source": [
    "# Check out the DataFrame \n",
    "mars_df.tail()"
   ]
  },
  {
   "cell_type": "code",
   "execution_count": 5,
   "id": "a33dd4c2",
   "metadata": {},
   "outputs": [
    {
     "name": "stdout",
     "output_type": "stream",
     "text": [
      "<class 'pandas.core.frame.DataFrame'>\n",
      "RangeIndex: 1867 entries, 0 to 1866\n",
      "Data columns (total 7 columns):\n",
      " #   Column            Non-Null Count  Dtype  \n",
      "---  ------            --------------  -----  \n",
      " 0   id                1867 non-null   int64  \n",
      " 1   terrestrial_date  1867 non-null   object \n",
      " 2   sol               1867 non-null   int64  \n",
      " 3   ls                1867 non-null   int64  \n",
      " 4   month             1867 non-null   int64  \n",
      " 5   min_temp          1867 non-null   float64\n",
      " 6   pressure          1867 non-null   float64\n",
      "dtypes: float64(2), int64(4), object(1)\n",
      "memory usage: 102.2+ KB\n"
     ]
    }
   ],
   "source": [
    "# Check out the DataFrame \n",
    "mars_df.info()"
   ]
  },
  {
   "cell_type": "code",
   "execution_count": 6,
   "id": "6358052b",
   "metadata": {},
   "outputs": [
    {
     "name": "stdout",
     "output_type": "stream",
     "text": [
      "<class 'pandas.core.frame.DataFrame'>\n",
      "RangeIndex: 1867 entries, 0 to 1866\n",
      "Data columns (total 7 columns):\n",
      " #   Column            Non-Null Count  Dtype         \n",
      "---  ------            --------------  -----         \n",
      " 0   id                1867 non-null   int64         \n",
      " 1   terrestrial_date  1867 non-null   datetime64[ns]\n",
      " 2   sol               1867 non-null   int64         \n",
      " 3   ls                1867 non-null   int64         \n",
      " 4   month             1867 non-null   int64         \n",
      " 5   min_temp          1867 non-null   float64       \n",
      " 6   pressure          1867 non-null   float64       \n",
      "dtypes: datetime64[ns](1), float64(2), int64(4)\n",
      "memory usage: 102.2 KB\n"
     ]
    }
   ],
   "source": [
    "# With the DataFrame established, set the data types to the correct types.\n",
    "mars_df[[\"id\", \"sol\", \"ls\", \"month\"]] = mars_df[[\"id\", \"sol\", \"ls\", \"month\"]].astype(\"int64\")\n",
    "mars_df[[\"min_temp\", \"pressure\"]] = mars_df[[\"min_temp\", \"pressure\"]].astype(float)\n",
    "mars_df[\"terrestrial_date\"] = pd.to_datetime(mars_df[\"terrestrial_date\"])\n",
    "\n",
    "# Verify the data types are correct.\n",
    "mars_df.info()"
   ]
  },
  {
   "cell_type": "code",
   "execution_count": 7,
   "id": "d42ce6c5",
   "metadata": {},
   "outputs": [
    {
     "name": "stdout",
     "output_type": "stream",
     "text": [
      "Mars has 12 months.\n"
     ]
    }
   ],
   "source": [
    "# How many months exist on Mars?\n",
    "mars_month = mars_df[\"month\"].max()\n",
    "print(f\"Mars has {mars_month} months.\")"
   ]
  },
  {
   "cell_type": "code",
   "execution_count": 8,
   "id": "7ebd4ab4",
   "metadata": {},
   "outputs": [
    {
     "name": "stdout",
     "output_type": "stream",
     "text": [
      "The scraped dataset spans  1,967 Martian days.\n"
     ]
    }
   ],
   "source": [
    "# How many Martian (and not Earth) days' worth of data exist in the scraped dataset?\n",
    "mars_days = mars_df[\"sol\"].max() - mars_df[\"sol\"].min()\n",
    "print(f\"The scraped dataset spans {mars_days: ,} Martian days.\")"
   ]
  },
  {
   "cell_type": "code",
   "execution_count": 9,
   "id": "003e2bfd",
   "metadata": {},
   "outputs": [
    {
     "data": {
      "image/png": "[encoded data removed]",
      "text/plain": [
       "<Figure size 432x288 with 1 Axes>"
      ]
     },
     "metadata": {
      "needs_background": "light"
     },
     "output_type": "display_data"
    }
   ],
   "source": [
    "# What are the coldest and the warmest months on Mars (at the location of the Curiosity)?\n",
    "\n",
    "# Get the average values grouped by month.\n",
    "monthly = mars_df.groupby(by = \"month\").mean()\n",
    "\n",
    "# Get the temperatures.\n",
    "avg_temp = monthly[\"min_temp\"]\n",
    "\n",
    "# Plot the monthly average temperatures.\n",
    "fig, ax = plt.subplots()\n",
    "\n",
    "fig = ax.bar(range(1, 13), avg_temp, width = 0.6, color = \"pink\")\n",
    "\n",
    "# Add the title and format the axes\n",
    "ax.set_title(\"Average Martian Temperature by Month\")\n",
    "ax.set_xlabel(\"Month\")\n",
    "ax.set_ylabel(\"Average Temperature ($^\\circ$C)\")\n",
    "ax.set_xticks(np.arange(1, 13, step = 1))\n",
    "ax.set_yticks(np.arange(0, -91, step = -10))\n",
    "\n",
    "# Add the labels\n",
    "ax.bar_label(fig, label_type = \"center\", rotation = 80)\n",
    "\n",
    "plt.tight_layout()\n",
    "plt.show()"
   ]
  },
  {
   "cell_type": "code",
   "execution_count": 10,
   "id": "46e55805",
   "metadata": {},
   "outputs": [
    {
     "name": "stdout",
     "output_type": "stream",
     "text": [
      "The coldest month is Month 3 with an average temperature of -83.3073°C.\n",
      "The warmest month is Month 8 with an average temperature of -68.383°C.\n"
     ]
    }
   ],
   "source": [
    "# Print the answer.\n",
    "print(f\"The coldest month is Month 3 with an average temperature of {avg_temp.min(): .6}\\N{DEGREE SIGN}C.\")\n",
    "print(f\"The warmest month is Month 8 with an average temperature of {avg_temp.max(): .6}\\N{DEGREE SIGN}C.\")"
   ]
  },
  {
   "cell_type": "code",
   "execution_count": 11,
   "id": "f3d6508f",
   "metadata": {},
   "outputs": [
    {
     "data": {
      "image/png": "[encoded data removed]",
      "text/plain": [
       "<Figure size 432x288 with 1 Axes>"
      ]
     },
     "metadata": {
      "needs_background": "light"
     },
     "output_type": "display_data"
    }
   ],
   "source": [
    "# Which months have the lowest and the highest atmospheric pressure on Mars (at the location of the Curiosity)?\n",
    "\n",
    "# Get the pressures from the monthly averages.\n",
    "avg_press = monthly[\"pressure\"]\n",
    "\n",
    "# Plot the monthly average temperatures.\n",
    "fig, ax = plt.subplots()\n",
    "\n",
    "fig = ax.bar(range(1, 13), avg_press, width = 0.6, color = \"yellow\")\n",
    "\n",
    "# Add the title and format the axes\n",
    "ax.set_title(\"Average Martian Pressure by Month\")\n",
    "ax.set_xlabel(\"Month\")\n",
    "ax.set_ylabel(\"Average Pressure\")\n",
    "ax.set_xticks(np.arange(1, 13, step = 1))\n",
    "ax.set_yticks(np.arange(0, 1001, step = 100))\n",
    "\n",
    "# Add the labels\n",
    "ax.bar_label(fig, label_type = \"center\", rotation = 80, color= \"black\")\n",
    "\n",
    "plt.tight_layout()\n",
    "plt.show()"
   ]
  },
  {
   "cell_type": "code",
   "execution_count": 12,
   "id": "1f972be6",
   "metadata": {},
   "outputs": [
    {
     "name": "stdout",
     "output_type": "stream",
     "text": [
      "Month 6 has the lowest pressure with an average pressure of  745.054 Pascals.\n",
      "Month 9 has the greatest pressure with an average pressure of  913.306 Pascals.\n"
     ]
    }
   ],
   "source": [
    "# Print the answer.\n",
    "print(f\"Month 6 has the lowest pressure with an average pressure of {avg_press.min(): .6} Pascals.\")\n",
    "print(f\"Month 9 has the greatest pressure with an average pressure of {avg_press.max(): .6} Pascals.\")"
   ]
  },
  {
   "cell_type": "code",
   "execution_count": 40,
   "id": "4855bca4",
   "metadata": {},
   "outputs": [
    {
     "data": {
      "image/png": "[encoded data removed]",
      "text/plain": [
       "<Figure size 432x288 with 1 Axes>"
      ]
     },
     "metadata": {
      "needs_background": "light"
     },
     "output_type": "display_data"
    }
   ],
   "source": [
    "# About how many terrestrial (Earth) days exist in a Martian year?\n",
    "plt.plot(mars_df[\"terrestrial_date\"], mars_df[\"min_temp\"])\n",
    "plt.title(\"Daily Minimum Temperature Observed\")\n",
    "plt.xlabel(\"Terrestrial Date\")\n",
    "plt.ylabel(\"Minimum Temperature ($^\\circ$C)\")\n",
    "plt.yticks(np.arange(-60, -96, step = -5))\n",
    "plt.show()"
   ]
  },
  {
   "cell_type": "code",
   "execution_count": 14,
   "id": "acacc39f",
   "metadata": {},
   "outputs": [
    {
     "name": "stdout",
     "output_type": "stream",
     "text": [
      "The plot seems to show about three Martian cycles over about 5.5 terrestrial years (plus one leap year day).\n",
      "Thus, one Martian year would contain about 669.5 terrestrial days.\n",
      "The Mars Facts website (https://galaxyfacts-mars.com) states that one Martian year is about 687 terrestrial days.\n",
      "So the error would be -2.55%.\n"
     ]
    }
   ],
   "source": [
    "# Print the answer.\n",
    "print(f\"The plot seems to show about three Martian cycles over about 5.5 terrestrial years (plus one leap year day).\")\n",
    "\n",
    "x = ((365 * 5.5) + 1)/3\n",
    "\n",
    "print(f\"Thus, one Martian year would contain about {x} terrestrial days.\")\n",
    "print(f\"The Mars Facts website (https://galaxyfacts-mars.com) states that one Martian year is about 687 terrestrial days.\")\n",
    "\n",
    "err = (x - 687)/687\n",
    "\n",
    "print(f\"So the error would be {err: .2%}.\")"
   ]
  },
  {
   "cell_type": "code",
   "execution_count": 15,
   "id": "d0c045eb",
   "metadata": {},
   "outputs": [],
   "source": [
    "# Export the DataFrame into a CSV.\n",
    "mars_df.to_csv(\"mars_data.csv\", index = False)"
   ]
  },
  {
   "cell_type": "code",
   "execution_count": 16,
   "id": "d870d91f",
   "metadata": {},
   "outputs": [],
   "source": [
    "# Create an instance of MongoClient, using the port number 27017.\n",
    "from pymongo import MongoClient\n",
    "\n",
    "mongo = MongoClient(port = 27017)"
   ]
  },
  {
   "cell_type": "code",
   "execution_count": 17,
   "id": "456bfa43",
   "metadata": {},
   "outputs": [
    {
     "data": {
      "text/plain": [
       "<pymongo.results.InsertManyResult at 0x7f860d058130>"
      ]
     },
     "execution_count": 17,
     "metadata": {},
     "output_type": "execute_result"
    }
   ],
   "source": [
    "# Set up a database named \"mars.\"\n",
    "db = mongo[\"mars\"]\n",
    "\n",
    "# Set up a collection named \"mars_data.\"\n",
    "collect = db[\"mars_data\"]\n",
    "\n",
    "# Format the DataFrame into a list of dictionaries.\n",
    "mars_data = mars_df.to_dict(\"records\")\n",
    "\n",
    "# Insert the list of dictionaries.\n",
    "collect.insert_many(mars_data)"
   ]
  },
  {
   "cell_type": "code",
   "execution_count": 18,
   "id": "e04a3a0e",
   "metadata": {},
   "outputs": [
    {
     "name": "stdout",
     "output_type": "stream",
     "text": [
      "['admin', 'config', 'local', 'mars']\n"
     ]
    }
   ],
   "source": [
    "# Verify the existence of the database.\n",
    "print(mongo.list_database_names())"
   ]
  },
  {
   "cell_type": "code",
   "execution_count": 19,
   "id": "0b7687b0",
   "metadata": {},
   "outputs": [
    {
     "name": "stdout",
     "output_type": "stream",
     "text": [
      "['mars_data']\n"
     ]
    }
   ],
   "source": [
    "# Verify the existence of the collection.\n",
    "db = mongo[\"mars\"]\n",
    "\n",
    "print(db.list_collection_names())"
   ]
  },
  {
   "cell_type": "code",
   "execution_count": 20,
   "id": "1bc55aee",
   "metadata": {},
   "outputs": [
    {
     "name": "stdout",
     "output_type": "stream",
     "text": [
      "{'_id': 9, 'count': 134}\n",
      "{'_id': 12, 'count': 166}\n",
      "{'_id': 8, 'count': 141}\n",
      "{'_id': 6, 'count': 147}\n",
      "{'_id': 2, 'count': 178}\n",
      "{'_id': 1, 'count': 174}\n",
      "{'_id': 5, 'count': 149}\n",
      "{'_id': 3, 'count': 192}\n",
      "{'_id': 4, 'count': 194}\n",
      "{'_id': 11, 'count': 138}\n",
      "{'_id': 10, 'count': 112}\n",
      "{'_id': 7, 'count': 142}\n"
     ]
    }
   ],
   "source": [
    "# Make a query.\n",
    "collect = db[\"mars_data\"]\n",
    "\n",
    "results = collect.aggregate([{\"$group\": {\"_id\": \"$month\", \"count\": {\"$sum\": 1}}}])\n",
    "for result in results:\n",
    "    print(result)"
   ]
  },
  {
   "cell_type": "markdown",
   "id": "deee2095",
   "metadata": {},
   "source": [
    "# SECOND WAY"
   ]
  },
  {
   "cell_type": "code",
   "execution_count": 21,
   "id": "58ca6aa7",
   "metadata": {},
   "outputs": [],
   "source": [
    "# Import dependencies.\n",
    "from splinter import Browser\n",
    "from bs4 import BeautifulSoup as soup\n",
    "from webdriver_manager.chrome import ChromeDriverManager\n",
    "import pandas as pd\n",
    "import numpy as np\n",
    "import matplotlib.pyplot as plt"
   ]
  },
  {
   "cell_type": "code",
   "execution_count": 22,
   "id": "67faec70",
   "metadata": {},
   "outputs": [],
   "source": [
    "# Use the Splinter browser to Scrape the data using Beautiful Soup\n",
    "executable_path = {\"executable_path\" : ChromeDriverManager().install()}\n",
    "browser = Browser(\"chrome\", **executable_path, headless = False, incognito = True)"
   ]
  },
  {
   "cell_type": "code",
   "execution_count": 23,
   "id": "bb4641ed",
   "metadata": {},
   "outputs": [
    {
     "data": {
      "text/plain": [
       "True"
      ]
     },
     "execution_count": 23,
     "metadata": {},
     "output_type": "execute_result"
    }
   ],
   "source": [
    "# Visit the Mars Temperature Data site for Scraping\n",
    "url = \"https://data-class-mars-challenge.s3.amazonaws.com/Mars/index.html\"\n",
    "browser.visit(url)\n",
    "browser.is_element_present_by_css(\"table.table\", wait_time = 1)"
   ]
  },
  {
   "cell_type": "code",
   "execution_count": 24,
   "id": "afca0b4d",
   "metadata": {},
   "outputs": [],
   "source": [
    "# Parse the HTML.\n",
    "html = browser.html\n",
    "mars_soup = soup(html, \"html.parser\")"
   ]
  },
  {
   "cell_type": "code",
   "execution_count": 25,
   "id": "32430c67",
   "metadata": {},
   "outputs": [],
   "source": [
    "# Get the table.\n",
    "table = mars_soup.find(\"table\", class_ = \"table\")"
   ]
  },
  {
   "cell_type": "code",
   "execution_count": 26,
   "id": "4fec7b37",
   "metadata": {},
   "outputs": [
    {
     "name": "stdout",
     "output_type": "stream",
     "text": [
      "['id', 'terrestrial_date', 'sol', 'ls', 'month', 'min_temp', 'pressure']\n"
     ]
    }
   ],
   "source": [
    "# Get the first row of the table. The headers will serve as the index of the DataFrame.\n",
    "headers = table.find_all(\"th\")\n",
    "\n",
    "# Set up the column labels using list comprehension.\n",
    "labels = [header.text for header in headers]\n",
    "print(labels)"
   ]
  },
  {
   "cell_type": "code",
   "execution_count": 27,
   "id": "b3b2d64d",
   "metadata": {},
   "outputs": [
    {
     "name": "stdout",
     "output_type": "stream",
     "text": [
      "['2', '2012-08-16', '10', '155', '6', '-75.0', '739.0']\n",
      "['13', '2012-08-17', '11', '156', '6', '-76.0', '740.0']\n",
      "['24', '2012-08-18', '12', '156', '6', '-76.0', '741.0']\n",
      "['35', '2012-08-19', '13', '157', '6', '-74.0', '732.0']\n",
      "['46', '2012-08-20', '14', '157', '6', '-74.0', '740.0']\n",
      "['57', '2012-08-21', '15', '158', '6', '-78.0', '740.0']\n",
      "['68', '2012-08-22', '16', '158', '6', '-77.0', '740.0']\n",
      "['79', '2012-08-23', '17', '159', '6', '-76.0', '742.0']\n",
      "['112', '2012-08-27', '21', '161', '6', '-74.0', '741.0']\n",
      "['114', '2012-08-28', '22', '162', '6', '-74.0', '742.0']\n"
     ]
    }
   ],
   "source": [
    "# Get the data rows.\n",
    "rows = table.find_all(\"tr\", class_ = \"data-row\")\n",
    "\n",
    "# Initialize the data list.\n",
    "data = []\n",
    "\n",
    "# Go through each row and extract the table data.\n",
    "for row in rows:\n",
    "    elements = row.find_all(\"td\")\n",
    "    \n",
    "    # Insert the table data text into a data row using list comprehension.\n",
    "    data_row = [element.text.strip() for element in elements]\n",
    "    \n",
    "    # Add the data row to the data list.\n",
    "    data.append(data_row)\n",
    "\n",
    "# Check the first ten rows of the data list.\n",
    "for i in range(10):\n",
    "    print(data[i])"
   ]
  },
  {
   "cell_type": "code",
   "execution_count": 28,
   "id": "8591e68b",
   "metadata": {},
   "outputs": [
    {
     "data": {
      "text/html": [
       "<div>\n",
       "<style scoped>\n",
       "    .dataframe tbody tr th:only-of-type {\n",
       "        vertical-align: middle;\n",
       "    }\n",
       "\n",
       "    .dataframe tbody tr th {\n",
       "        vertical-align: top;\n",
       "    }\n",
       "\n",
       "    .dataframe thead th {\n",
       "        text-align: right;\n",
       "    }\n",
       "</style>\n",
       "<table border=\"1\" class=\"dataframe\">\n",
       "  <thead>\n",
       "    <tr style=\"text-align: right;\">\n",
       "      <th></th>\n",
       "      <th>id</th>\n",
       "      <th>terrestrial_date</th>\n",
       "      <th>sol</th>\n",
       "      <th>ls</th>\n",
       "      <th>month</th>\n",
       "      <th>min_temp</th>\n",
       "      <th>pressure</th>\n",
       "    </tr>\n",
       "  </thead>\n",
       "  <tbody>\n",
       "    <tr>\n",
       "      <th>0</th>\n",
       "      <td>2</td>\n",
       "      <td>2012-08-16</td>\n",
       "      <td>10</td>\n",
       "      <td>155</td>\n",
       "      <td>6</td>\n",
       "      <td>-75.0</td>\n",
       "      <td>739.0</td>\n",
       "    </tr>\n",
       "    <tr>\n",
       "      <th>1</th>\n",
       "      <td>13</td>\n",
       "      <td>2012-08-17</td>\n",
       "      <td>11</td>\n",
       "      <td>156</td>\n",
       "      <td>6</td>\n",
       "      <td>-76.0</td>\n",
       "      <td>740.0</td>\n",
       "    </tr>\n",
       "    <tr>\n",
       "      <th>2</th>\n",
       "      <td>24</td>\n",
       "      <td>2012-08-18</td>\n",
       "      <td>12</td>\n",
       "      <td>156</td>\n",
       "      <td>6</td>\n",
       "      <td>-76.0</td>\n",
       "      <td>741.0</td>\n",
       "    </tr>\n",
       "    <tr>\n",
       "      <th>3</th>\n",
       "      <td>35</td>\n",
       "      <td>2012-08-19</td>\n",
       "      <td>13</td>\n",
       "      <td>157</td>\n",
       "      <td>6</td>\n",
       "      <td>-74.0</td>\n",
       "      <td>732.0</td>\n",
       "    </tr>\n",
       "    <tr>\n",
       "      <th>4</th>\n",
       "      <td>46</td>\n",
       "      <td>2012-08-20</td>\n",
       "      <td>14</td>\n",
       "      <td>157</td>\n",
       "      <td>6</td>\n",
       "      <td>-74.0</td>\n",
       "      <td>740.0</td>\n",
       "    </tr>\n",
       "  </tbody>\n",
       "</table>\n",
       "</div>"
      ],
      "text/plain": [
       "   id terrestrial_date sol   ls month min_temp pressure\n",
       "0   2       2012-08-16  10  155     6    -75.0    739.0\n",
       "1  13       2012-08-17  11  156     6    -76.0    740.0\n",
       "2  24       2012-08-18  12  156     6    -76.0    741.0\n",
       "3  35       2012-08-19  13  157     6    -74.0    732.0\n",
       "4  46       2012-08-20  14  157     6    -74.0    740.0"
      ]
     },
     "execution_count": 28,
     "metadata": {},
     "output_type": "execute_result"
    }
   ],
   "source": [
    "# Combine the column labels and the data list into a DataFrame.\n",
    "mars_df = pd.DataFrame(data, columns = labels)\n",
    "\n",
    "# Check out the DataFrame \n",
    "mars_df.head()"
   ]
  },
  {
   "cell_type": "code",
   "execution_count": 29,
   "id": "86441b12",
   "metadata": {},
   "outputs": [
    {
     "data": {
      "text/html": [
       "<div>\n",
       "<style scoped>\n",
       "    .dataframe tbody tr th:only-of-type {\n",
       "        vertical-align: middle;\n",
       "    }\n",
       "\n",
       "    .dataframe tbody tr th {\n",
       "        vertical-align: top;\n",
       "    }\n",
       "\n",
       "    .dataframe thead th {\n",
       "        text-align: right;\n",
       "    }\n",
       "</style>\n",
       "<table border=\"1\" class=\"dataframe\">\n",
       "  <thead>\n",
       "    <tr style=\"text-align: right;\">\n",
       "      <th></th>\n",
       "      <th>id</th>\n",
       "      <th>terrestrial_date</th>\n",
       "      <th>sol</th>\n",
       "      <th>ls</th>\n",
       "      <th>month</th>\n",
       "      <th>min_temp</th>\n",
       "      <th>pressure</th>\n",
       "    </tr>\n",
       "  </thead>\n",
       "  <tbody>\n",
       "    <tr>\n",
       "      <th>1862</th>\n",
       "      <td>1889</td>\n",
       "      <td>2018-02-23</td>\n",
       "      <td>1973</td>\n",
       "      <td>133</td>\n",
       "      <td>5</td>\n",
       "      <td>-78.0</td>\n",
       "      <td>730.0</td>\n",
       "    </tr>\n",
       "    <tr>\n",
       "      <th>1863</th>\n",
       "      <td>1892</td>\n",
       "      <td>2018-02-24</td>\n",
       "      <td>1974</td>\n",
       "      <td>134</td>\n",
       "      <td>5</td>\n",
       "      <td>-77.0</td>\n",
       "      <td>729.0</td>\n",
       "    </tr>\n",
       "    <tr>\n",
       "      <th>1864</th>\n",
       "      <td>1894</td>\n",
       "      <td>2018-02-25</td>\n",
       "      <td>1975</td>\n",
       "      <td>134</td>\n",
       "      <td>5</td>\n",
       "      <td>-76.0</td>\n",
       "      <td>729.0</td>\n",
       "    </tr>\n",
       "    <tr>\n",
       "      <th>1865</th>\n",
       "      <td>1893</td>\n",
       "      <td>2018-02-26</td>\n",
       "      <td>1976</td>\n",
       "      <td>135</td>\n",
       "      <td>5</td>\n",
       "      <td>-77.0</td>\n",
       "      <td>728.0</td>\n",
       "    </tr>\n",
       "    <tr>\n",
       "      <th>1866</th>\n",
       "      <td>1895</td>\n",
       "      <td>2018-02-27</td>\n",
       "      <td>1977</td>\n",
       "      <td>135</td>\n",
       "      <td>5</td>\n",
       "      <td>-77.0</td>\n",
       "      <td>727.0</td>\n",
       "    </tr>\n",
       "  </tbody>\n",
       "</table>\n",
       "</div>"
      ],
      "text/plain": [
       "        id terrestrial_date   sol   ls month min_temp pressure\n",
       "1862  1889       2018-02-23  1973  133     5    -78.0    730.0\n",
       "1863  1892       2018-02-24  1974  134     5    -77.0    729.0\n",
       "1864  1894       2018-02-25  1975  134     5    -76.0    729.0\n",
       "1865  1893       2018-02-26  1976  135     5    -77.0    728.0\n",
       "1866  1895       2018-02-27  1977  135     5    -77.0    727.0"
      ]
     },
     "execution_count": 29,
     "metadata": {},
     "output_type": "execute_result"
    }
   ],
   "source": [
    "# Check out the DataFrame \n",
    "mars_df.tail()"
   ]
  },
  {
   "cell_type": "code",
   "execution_count": 30,
   "id": "6bd55cbe",
   "metadata": {},
   "outputs": [
    {
     "name": "stdout",
     "output_type": "stream",
     "text": [
      "<class 'pandas.core.frame.DataFrame'>\n",
      "RangeIndex: 1867 entries, 0 to 1866\n",
      "Data columns (total 7 columns):\n",
      " #   Column            Non-Null Count  Dtype \n",
      "---  ------            --------------  ----- \n",
      " 0   id                1867 non-null   object\n",
      " 1   terrestrial_date  1867 non-null   object\n",
      " 2   sol               1867 non-null   object\n",
      " 3   ls                1867 non-null   object\n",
      " 4   month             1867 non-null   object\n",
      " 5   min_temp          1867 non-null   object\n",
      " 6   pressure          1867 non-null   object\n",
      "dtypes: object(7)\n",
      "memory usage: 102.2+ KB\n"
     ]
    }
   ],
   "source": [
    "# Check out the DataFrame \n",
    "mars_df.info()"
   ]
  },
  {
   "cell_type": "code",
   "execution_count": 31,
   "id": "a967d244",
   "metadata": {},
   "outputs": [
    {
     "name": "stdout",
     "output_type": "stream",
     "text": [
      "<class 'pandas.core.frame.DataFrame'>\n",
      "RangeIndex: 1867 entries, 0 to 1866\n",
      "Data columns (total 7 columns):\n",
      " #   Column            Non-Null Count  Dtype         \n",
      "---  ------            --------------  -----         \n",
      " 0   id                1867 non-null   int64         \n",
      " 1   terrestrial_date  1867 non-null   datetime64[ns]\n",
      " 2   sol               1867 non-null   int64         \n",
      " 3   ls                1867 non-null   int64         \n",
      " 4   month             1867 non-null   int64         \n",
      " 5   min_temp          1867 non-null   float64       \n",
      " 6   pressure          1867 non-null   float64       \n",
      "dtypes: datetime64[ns](1), float64(2), int64(4)\n",
      "memory usage: 102.2 KB\n"
     ]
    }
   ],
   "source": [
    "# With the DataFrame established, set the data types to the correct types.\n",
    "mars_df[[\"id\", \"sol\", \"ls\", \"month\"]] = mars_df[[\"id\", \"sol\", \"ls\", \"month\"]].astype(\"int64\")\n",
    "mars_df[[\"min_temp\", \"pressure\"]] = mars_df[[\"min_temp\", \"pressure\"]].astype(float)\n",
    "mars_df[\"terrestrial_date\"] = pd.to_datetime(mars_df[\"terrestrial_date\"])\n",
    "\n",
    "# Verify the data types are correct.\n",
    "mars_df.info()"
   ]
  },
  {
   "cell_type": "code",
   "execution_count": 32,
   "id": "a1f7b8f7",
   "metadata": {},
   "outputs": [],
   "source": [
    "# Close the Splinter session. The data scraping is complete.\n",
    "browser.quit()"
   ]
  },
  {
   "cell_type": "code",
   "execution_count": 33,
   "id": "634faa54",
   "metadata": {},
   "outputs": [],
   "source": [
    "# Create an instance of MongoClient, using the port number 27017.\n",
    "from pymongo import MongoClient\n",
    "\n",
    "mongo = MongoClient(port = 27017)"
   ]
  },
  {
   "cell_type": "code",
   "execution_count": 34,
   "id": "23c9b8b8",
   "metadata": {},
   "outputs": [
    {
     "data": {
      "text/plain": [
       "<pymongo.results.InsertManyResult at 0x7f860f6ea160>"
      ]
     },
     "execution_count": 34,
     "metadata": {},
     "output_type": "execute_result"
    }
   ],
   "source": [
    "# Set up a database named \"mars.\"\n",
    "db = mongo[\"mars\"]\n",
    "\n",
    "# Set up a collection named \"mars_data.\"\n",
    "collect = db[\"mars_data\"]\n",
    "\n",
    "# Format the DataFrame into a list of dictionaries.\n",
    "mars_data = mars_df.to_dict(\"records\")\n",
    "\n",
    "# Insert the list of dictionaries.\n",
    "collect.insert_many(mars_data)"
   ]
  },
  {
   "cell_type": "code",
   "execution_count": 35,
   "id": "f88369bf",
   "metadata": {},
   "outputs": [
    {
     "name": "stdout",
     "output_type": "stream",
     "text": [
      "['admin', 'config', 'local', 'mars']\n"
     ]
    }
   ],
   "source": [
    "# Verify the existence of the database.\n",
    "print(mongo.list_database_names())"
   ]
  },
  {
   "cell_type": "code",
   "execution_count": 36,
   "id": "c2e86013",
   "metadata": {},
   "outputs": [
    {
     "name": "stdout",
     "output_type": "stream",
     "text": [
      "['mars_data']\n"
     ]
    }
   ],
   "source": [
    "# Verify the existence of the collection.\n",
    "db = mongo[\"mars\"]\n",
    "print(db.list_collection_names())"
   ]
  },
  {
   "cell_type": "code",
   "execution_count": 37,
   "id": "69cfe5d8",
   "metadata": {},
   "outputs": [
    {
     "name": "stdout",
     "output_type": "stream",
     "text": [
      "{'_id': 11, 'count': 276}\n",
      "{'_id': 7, 'count': 284}\n",
      "{'_id': 1, 'count': 348}\n",
      "{'_id': 4, 'count': 388}\n",
      "{'_id': 12, 'count': 332}\n",
      "{'_id': 2, 'count': 356}\n",
      "{'_id': 6, 'count': 294}\n",
      "{'_id': 8, 'count': 282}\n",
      "{'_id': 5, 'count': 298}\n",
      "{'_id': 9, 'count': 268}\n",
      "{'_id': 3, 'count': 384}\n",
      "{'_id': 10, 'count': 224}\n"
     ]
    }
   ],
   "source": [
    "# Make a query.\n",
    "collect = db[\"mars_data\"]\n",
    "\n",
    "results = collect.aggregate([{\"$group\": {\"_id\": \"$month\", \"count\": {\"$sum\": 1}}}])\n",
    "for result in results:\n",
    "    print(result)"
   ]
  },
  {
   "cell_type": "code",
   "execution_count": 38,
   "id": "8c8003dc",
   "metadata": {},
   "outputs": [
    {
     "data": {
      "text/plain": [
       "[]"
      ]
     },
     "execution_count": 38,
     "metadata": {},
     "output_type": "execute_result"
    }
   ],
   "source": [
    "db.drop_collection(\"mars_data\")\n",
    "db.list_collection_names()"
   ]
  },
  {
   "cell_type": "code",
   "execution_count": 39,
   "id": "0fc197a2",
   "metadata": {},
   "outputs": [
    {
     "data": {
      "text/plain": [
       "['admin', 'config', 'local']"
      ]
     },
     "execution_count": 39,
     "metadata": {},
     "output_type": "execute_result"
    }
   ],
   "source": [
    "mongo.drop_database(db)\n",
    "mongo.list_database_names()"
   ]
  }
 ],
 "metadata": {
  "kernelspec": {
   "display_name": "PythonData",
   "language": "python",
   "name": "pythondata"
  },
  "language_info": {
   "codemirror_mode": {
    "name": "ipython",
    "version": 3
   },
   "file_extension": ".py",
   "mimetype": "text/x-python",
   "name": "python",
   "nbconvert_exporter": "python",
   "pygments_lexer": "ipython3",
   "version": "3.9.12"
  }
 },
 "nbformat": 4,
 "nbformat_minor": 5
}
